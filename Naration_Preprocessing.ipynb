{
 "cells": [
  {
   "cell_type": "code",
   "execution_count": null,
   "metadata": {
    "id": "6tZJBqzyFwd4"
   },
   "outputs": [],
   "source": [
    "import numpy as np\n",
    "import pandas as pd"
   ]
  },
  {
   "cell_type": "code",
   "execution_count": null,
   "metadata": {
    "id": "S_dp4B9BPsZr"
   },
   "outputs": [],
   "source": [
    "data = pd.read_csv('Transaction_Naration_Data_Set.csv')"
   ]
  },
  {
   "cell_type": "code",
   "execution_count": null,
   "metadata": {
    "id": "luEWGQBcQgDe"
   },
   "outputs": [],
   "source": [
    "data['NARATION'] = data['NARATION'].str.lower()"
   ]
  },
  {
   "cell_type": "code",
   "execution_count": null,
   "metadata": {
    "id": "b-eFHmUT-5bu"
   },
   "outputs": [],
   "source": [
    "# removing digits, special characters, punctuations\n",
    "data['Processed_Naration'] = data['NARATION'].str.replace('[^A-Za-z]',' ',regex=True)\n",
    "data['Processed_Naration'] = data['Processed_Naration'].str.replace('withdrawal', 'withdraw')"
   ]
  },
  {
   "cell_type": "code",
   "execution_count": null,
   "metadata": {
    "id": "WzhYhIAlVBAN"
   },
   "outputs": [],
   "source": [
    "import nltk\n",
    "from nltk.corpus import stopwords\n",
    "nltk.download('punkt')\n",
    "nltk.download('stopwords')\n",
    "nltk.download('wordnet')\n",
    "stopwords = stopwords.words('english')\n",
    "stopwords.append('mm')\n",
    "stopwords.append('c')"
   ]
  },
  {
   "cell_type": "code",
   "execution_count": null,
   "metadata": {
    "id": "6rYJDKpUfxsa"
   },
   "outputs": [],
   "source": [
    "# removing stopwords\n",
    "data['Processed_Naration'] = data['Processed_Naration'].apply(lambda words : ' '.join(word.lower() for word in str(words).split() if word not in stopwords))"
   ]
  },
  {
   "cell_type": "code",
   "execution_count": null,
   "metadata": {
    "id": "CAfKvSf7CqCc"
   },
   "outputs": [],
   "source": [
    "# lemmatization and tokenization\n",
    "tokenizer = nltk.tokenize.WhitespaceTokenizer()\n",
    "lemmatizer = nltk.stem.WordNetLemmatizer()\n",
    "def lemmatize(text):\n",
    "  return [lemmatizer.lemmatize(w) for w in tokenizer.tokenize(text)]"
   ]
  },
  {
   "cell_type": "code",
   "execution_count": null,
   "metadata": {
    "id": "5UzejTX0FHe3"
   },
   "outputs": [],
   "source": [
    "data['Processed_Naration'] = data['Processed_Naration'].apply(lemmatize)"
   ]
  },
  {
   "cell_type": "code",
   "execution_count": null,
   "metadata": {
    "id": "U8-MJlY6J4_j"
   },
   "outputs": [],
   "source": [
    "data.to_csv('Processed_Transaction_Narations.csv')"
   ]
  }
 ],
 "metadata": {
  "accelerator": "GPU",
  "colab": {
   "gpuType": "T4",
   "private_outputs": true,
   "provenance": []
  },
  "gpuClass": "standard",
  "kernelspec": {
   "display_name": "Python 3",
   "language": "python",
   "name": "python3"
  },
  "language_info": {
   "codemirror_mode": {
    "name": "ipython",
    "version": 3
   },
   "file_extension": ".py",
   "mimetype": "text/x-python",
   "name": "python",
   "nbconvert_exporter": "python",
   "pygments_lexer": "ipython3",
   "version": "3.7.6"
  }
 },
 "nbformat": 4,
 "nbformat_minor": 1
}
